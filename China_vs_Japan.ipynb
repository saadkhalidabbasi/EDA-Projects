{
  "nbformat": 4,
  "nbformat_minor": 0,
  "metadata": {
    "colab": {
      "provenance": [],
      "authorship_tag": "ABX9TyO6HC6l5d8SJekyjpkrwl3Z",
      "include_colab_link": true
    },
    "kernelspec": {
      "name": "python3",
      "display_name": "Python 3"
    },
    "language_info": {
      "name": "python"
    }
  },
  "cells": [
    {
      "cell_type": "markdown",
      "metadata": {
        "id": "view-in-github",
        "colab_type": "text"
      },
      "source": [
        "<a href=\"https://colab.research.google.com/github/saadkhalidabbasi/EDA-Projects/blob/main/China_vs_Japan.ipynb\" target=\"_parent\"><img src=\"https://colab.research.google.com/assets/colab-badge.svg\" alt=\"Open In Colab\"/></a>"
      ]
    },
    {
      "cell_type": "markdown",
      "source": [
        "# **China vs Japan**"
      ],
      "metadata": {
        "id": "O-0jUp_dNo_P"
      }
    },
    {
      "cell_type": "markdown",
      "source": [
        "This dataset offers a detailed comparison of technological advancements in China and Japan, covering key sectors such as artificial intelligence, robotics, telecommunications, and clean energy. Whether you're a researcher, student, or enthusiast, this dataset provides a valuable resource to explore the technological trajectories of these two leading global economies. 📊\n",
        "\n",
        "The dataset contains multiple indicators such as R&D spending, the number of patents filed, internet penetration rates, and much more. Dive into the world of cutting-edge technologies and explore the rivalry between China and Japan in innovation and progress. 🇨🇳 vs 🇯🇵"
      ],
      "metadata": {
        "id": "3h6Sw6mUNvY9"
      }
    },
    {
      "cell_type": "markdown",
      "source": [
        "## **Importing Libraries**"
      ],
      "metadata": {
        "id": "1RBtZ9QiN8jd"
      }
    },
    {
      "cell_type": "code",
      "source": [
        "import pandas as pd\n",
        "import numpy as np\n",
        "import matplotlib.pyplot as plt\n",
        "import seaborn as sns\n",
        "import plotly.express as px\n"
      ],
      "metadata": {
        "id": "sZeXIWLvOAbl"
      },
      "execution_count": 1,
      "outputs": []
    }
  ]
}